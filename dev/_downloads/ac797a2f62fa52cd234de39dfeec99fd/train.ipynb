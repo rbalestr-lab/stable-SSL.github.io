{
  "cells": [
    {
      "cell_type": "markdown",
      "metadata": {},
      "source": [
        "\nThis script demonstrates how to train a model using the stable-SSL library.\n"
      ]
    },
    {
      "cell_type": "code",
      "execution_count": null,
      "metadata": {
        "collapsed": false
      },
      "outputs": [],
      "source": [
        "import hydra\nfrom omegaconf import DictConfig\n\nimport stable_ssl\n\nfrom stable_ssl.model import SimCLR\nfrom stable_ssl.model import Supervised\n\nmodel_dict = {\n    \"SimCLR\": SimCLR,\n    \"Supervised\": Supervised,\n}\n\n\n@hydra.main()\ndef main(cfg: DictConfig):\n    args = stable_ssl.get_args(cfg)\n\n    print(\"--- Arguments ---\")\n    print(args)\n\n    trainer = model_dict[args.model.name](args)\n    trainer()\n\n\nif __name__ == \"__main__\":\n    main()"
      ]
    }
  ],
  "metadata": {
    "kernelspec": {
      "display_name": "Python 3",
      "language": "python",
      "name": "python3"
    },
    "language_info": {
      "codemirror_mode": {
        "name": "ipython",
        "version": 3
      },
      "file_extension": ".py",
      "mimetype": "text/x-python",
      "name": "python",
      "nbconvert_exporter": "python",
      "pygments_lexer": "ipython3",
      "version": "3.10.15"
    }
  },
  "nbformat": 4,
  "nbformat_minor": 0
}