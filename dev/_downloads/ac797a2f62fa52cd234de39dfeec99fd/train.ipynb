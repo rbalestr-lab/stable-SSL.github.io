{
  "cells": [
    {
      "cell_type": "markdown",
      "metadata": {},
      "source": [
        "\nThis script demonstrates how to launch a run using the stable-SSL library.\npython examples/train.py    --config-dir examples/configs/simclr        --config-name cifar10_requeue\n"
      ]
    },
    {
      "cell_type": "code",
      "execution_count": null,
      "metadata": {
        "collapsed": false
      },
      "outputs": [],
      "source": [
        "import hydra\n\n\n@hydra.main(version_base=\"1.2\")\ndef main(cfg):\n    \"\"\"Load the configuration and launch the run.\"\"\"\n    trainer = hydra.utils.instantiate(\n        cfg.trainer, _convert_=\"object\", _recursive_=False\n    )\n    trainer.setup()\n    trainer.launch()\n\n\nif __name__ == \"__main__\":\n    main()"
      ]
    }
  ],
  "metadata": {
    "kernelspec": {
      "display_name": "Python 3",
      "language": "python",
      "name": "python3"
    },
    "language_info": {
      "codemirror_mode": {
        "name": "ipython",
        "version": 3
      },
      "file_extension": ".py",
      "mimetype": "text/x-python",
      "name": "python",
      "nbconvert_exporter": "python",
      "pygments_lexer": "ipython3",
      "version": "3.10.15"
    }
  },
  "nbformat": 4,
  "nbformat_minor": 0
}