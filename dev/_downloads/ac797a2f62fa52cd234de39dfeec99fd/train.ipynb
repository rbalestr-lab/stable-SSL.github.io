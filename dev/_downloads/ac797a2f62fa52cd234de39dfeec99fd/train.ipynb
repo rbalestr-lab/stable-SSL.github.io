{
  "cells": [
    {
      "cell_type": "markdown",
      "metadata": {},
      "source": [
        "\nThis script demonstrates how to launch a run using the stable-SSL library.\n"
      ]
    },
    {
      "cell_type": "code",
      "execution_count": null,
      "metadata": {
        "collapsed": false
      },
      "outputs": [],
      "source": [
        "import logging\nimport hydra\nimport stable_ssl\nfrom stable_ssl.utils import log_and_raise\n\n\n@hydra.main()\ndef main(cfg):\n    \"\"\"Load the configuration and launch the run.\"\"\"\n    args = stable_ssl.get_args(cfg)  # Get the verified arguments\n\n    logging.basicConfig(level=args.log.level, format=\"[stable-SSL] %(message)s\")\n\n    print(\"--- Arguments ---\")\n    print(args)\n\n    # torch.autograd.set_detect_anomaly(True)\n\n    stable_ssl.utils.get_gpu_info()\n\n    # Check if the model name is a valid attribute in stable_ssl\n    if hasattr(stable_ssl, args.model.name):\n        model_class = getattr(stable_ssl, args.model.name)\n        model = model_class(args)  # Create model instance\n        model()  # Call model\n    else:\n        available_models = [\n            attr for attr in dir(stable_ssl) if not attr.startswith(\"_\")\n        ]\n        log_and_raise(\n            ValueError,\n            f\"The model '{args.model.name}' is not available in stable_ssl. \"\n            f\"Available models are: {available_models}.\",\n        )\n\n\nif __name__ == \"__main__\":\n    main()"
      ]
    }
  ],
  "metadata": {
    "kernelspec": {
      "display_name": "Python 3",
      "language": "python",
      "name": "python3"
    },
    "language_info": {
      "codemirror_mode": {
        "name": "ipython",
        "version": 3
      },
      "file_extension": ".py",
      "mimetype": "text/x-python",
      "name": "python",
      "nbconvert_exporter": "python",
      "pygments_lexer": "ipython3",
      "version": "3.10.15"
    }
  },
  "nbformat": 4,
  "nbformat_minor": 0
}